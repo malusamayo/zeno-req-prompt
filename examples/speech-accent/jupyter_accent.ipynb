{
 "cells": [
  {
   "cell_type": "code",
   "execution_count": 1,
   "metadata": {},
   "outputs": [
    {
     "ename": "RuntimeError",
     "evalue": "Directory '/Users/acabrera/dev-research/22-zeno/zeno/examples/speech-accent/audio-recordings' does not exist",
     "output_type": "error",
     "traceback": [
      "\u001b[0;31m---------------------------------------------------------------------------\u001b[0m",
      "\u001b[0;31mRuntimeError\u001b[0m                              Traceback (most recent call last)",
      "Cell \u001b[0;32mIn[1], line 6\u001b[0m\n\u001b[1;32m      2\u001b[0m \u001b[38;5;28;01mimport\u001b[39;00m \u001b[38;5;21;01mpandas\u001b[39;00m \u001b[38;5;28;01mas\u001b[39;00m \u001b[38;5;21;01mpd\u001b[39;00m\n\u001b[1;32m      4\u001b[0m df \u001b[38;5;241m=\u001b[39m pd\u001b[38;5;241m.\u001b[39mread_csv(\u001b[38;5;124m\"\u001b[39m\u001b[38;5;124mmetadata.csv\u001b[39m\u001b[38;5;124m\"\u001b[39m)\n\u001b[0;32m----> 6\u001b[0m \u001b[43mzeno\u001b[49m\u001b[43m(\u001b[49m\u001b[43m{\u001b[49m\n\u001b[1;32m      7\u001b[0m \u001b[43m    \u001b[49m\u001b[38;5;124;43m\"\u001b[39;49m\u001b[38;5;124;43mmetadata\u001b[39;49m\u001b[38;5;124;43m\"\u001b[39;49m\u001b[43m:\u001b[49m\u001b[43m \u001b[49m\u001b[43mdf\u001b[49m\u001b[43m,\u001b[49m\n\u001b[1;32m      8\u001b[0m \u001b[43m    \u001b[49m\u001b[38;5;124;43m\"\u001b[39;49m\u001b[38;5;124;43mview\u001b[39;49m\u001b[38;5;124;43m\"\u001b[39;49m\u001b[43m:\u001b[49m\u001b[43m \u001b[49m\u001b[38;5;124;43m\"\u001b[39;49m\u001b[38;5;124;43maudio-transcription\u001b[39;49m\u001b[38;5;124;43m\"\u001b[39;49m\u001b[43m,\u001b[49m\n\u001b[1;32m      9\u001b[0m \u001b[43m    \u001b[49m\u001b[38;5;124;43m\"\u001b[39;49m\u001b[38;5;124;43mdata_path\u001b[39;49m\u001b[38;5;124;43m\"\u001b[39;49m\u001b[43m:\u001b[49m\u001b[43m \u001b[49m\u001b[38;5;124;43m\"\u001b[39;49m\u001b[38;5;124;43m./audio-recordings/\u001b[39;49m\u001b[38;5;124;43m\"\u001b[39;49m\u001b[43m,\u001b[49m\n\u001b[1;32m     10\u001b[0m \u001b[43m    \u001b[49m\u001b[38;5;124;43m\"\u001b[39;49m\u001b[38;5;124;43mdata_column\u001b[39;49m\u001b[38;5;124;43m\"\u001b[39;49m\u001b[43m:\u001b[49m\u001b[43m \u001b[49m\u001b[38;5;124;43m\"\u001b[39;49m\u001b[38;5;124;43mid\u001b[39;49m\u001b[38;5;124;43m\"\u001b[39;49m\n\u001b[1;32m     11\u001b[0m \u001b[43m}\u001b[49m\u001b[43m)\u001b[49m\n",
      "File \u001b[0;32m~/dev-research/22-zeno/zeno/zeno/runner.py:223\u001b[0m, in \u001b[0;36mzeno\u001b[0;34m(args, base_path)\u001b[0m\n\u001b[1;32m    206\u001b[0m zeno \u001b[38;5;241m=\u001b[39m ZenoBackend(\n\u001b[1;32m    207\u001b[0m     df\u001b[38;5;241m=\u001b[39margs[\u001b[38;5;124m\"\u001b[39m\u001b[38;5;124mmetadata\u001b[39m\u001b[38;5;124m\"\u001b[39m],\n\u001b[1;32m    208\u001b[0m     functions\u001b[38;5;241m=\u001b[39margs[\u001b[38;5;124m\"\u001b[39m\u001b[38;5;124mfunctions\u001b[39m\u001b[38;5;124m\"\u001b[39m],\n\u001b[0;32m   (...)\u001b[0m\n\u001b[1;32m    219\u001b[0m     view\u001b[38;5;241m=\u001b[39margs[\u001b[38;5;124m\"\u001b[39m\u001b[38;5;124mview\u001b[39m\u001b[38;5;124m\"\u001b[39m],\n\u001b[1;32m    220\u001b[0m )\n\u001b[1;32m    222\u001b[0m zeno\u001b[38;5;241m.\u001b[39mstart_processing()\n\u001b[0;32m--> 223\u001b[0m app \u001b[38;5;241m=\u001b[39m \u001b[43mget_server\u001b[49m\u001b[43m(\u001b[49m\u001b[43mzeno\u001b[49m\u001b[43m)\u001b[49m\n\u001b[1;32m    225\u001b[0m \u001b[38;5;28;01mif\u001b[39;00m args[\u001b[38;5;124m\"\u001b[39m\u001b[38;5;124mserve\u001b[39m\u001b[38;5;124m\"\u001b[39m]:\n\u001b[1;32m    226\u001b[0m     \u001b[38;5;28mprint\u001b[39m(\n\u001b[1;32m    227\u001b[0m         \u001b[38;5;124m\"\u001b[39m\u001b[38;5;130;01m\\n\u001b[39;00m\u001b[38;5;130;01m\\033\u001b[39;00m\u001b[38;5;124m[1mZeno\u001b[39m\u001b[38;5;130;01m\\033\u001b[39;00m\u001b[38;5;124m[0m running on http://\u001b[39m\u001b[38;5;132;01m{}\u001b[39;00m\u001b[38;5;124m:\u001b[39m\u001b[38;5;132;01m{}\u001b[39;00m\u001b[38;5;130;01m\\n\u001b[39;00m\u001b[38;5;124m\"\u001b[39m\u001b[38;5;241m.\u001b[39mformat(\n\u001b[1;32m    228\u001b[0m             args[\u001b[38;5;124m\"\u001b[39m\u001b[38;5;124mhost\u001b[39m\u001b[38;5;124m\"\u001b[39m], args[\u001b[38;5;124m\"\u001b[39m\u001b[38;5;124mport\u001b[39m\u001b[38;5;124m\"\u001b[39m]\n\u001b[1;32m    229\u001b[0m         )\n\u001b[1;32m    230\u001b[0m     )\n",
      "File \u001b[0;32m~/dev-research/22-zeno/zeno/zeno/server.py:33\u001b[0m, in \u001b[0;36mget_server\u001b[0;34m(zeno)\u001b[0m\n\u001b[1;32m     30\u001b[0m api_app \u001b[38;5;241m=\u001b[39m FastAPI(title\u001b[38;5;241m=\u001b[39m\u001b[38;5;124m\"\u001b[39m\u001b[38;5;124mBackend API\u001b[39m\u001b[38;5;124m\"\u001b[39m)\n\u001b[1;32m     32\u001b[0m \u001b[38;5;28;01mif\u001b[39;00m zeno\u001b[38;5;241m.\u001b[39mdata_path \u001b[38;5;241m!=\u001b[39m \u001b[38;5;124m\"\u001b[39m\u001b[38;5;124m\"\u001b[39m \u001b[38;5;129;01mand\u001b[39;00m \u001b[38;5;28misinstance\u001b[39m(zeno\u001b[38;5;241m.\u001b[39mdata_path, PosixPath):\n\u001b[0;32m---> 33\u001b[0m     app\u001b[38;5;241m.\u001b[39mmount(\u001b[38;5;124m\"\u001b[39m\u001b[38;5;124m/data\u001b[39m\u001b[38;5;124m\"\u001b[39m, \u001b[43mStaticFiles\u001b[49m\u001b[43m(\u001b[49m\u001b[43mdirectory\u001b[49m\u001b[38;5;241;43m=\u001b[39;49m\u001b[43mzeno\u001b[49m\u001b[38;5;241;43m.\u001b[39;49m\u001b[43mdata_path\u001b[49m\u001b[43m)\u001b[49m, name\u001b[38;5;241m=\u001b[39m\u001b[38;5;124m\"\u001b[39m\u001b[38;5;124mstatic\u001b[39m\u001b[38;5;124m\"\u001b[39m)\n\u001b[1;32m     34\u001b[0m \u001b[38;5;28;01mif\u001b[39;00m zeno\u001b[38;5;241m.\u001b[39mlabel_path \u001b[38;5;241m!=\u001b[39m \u001b[38;5;124m\"\u001b[39m\u001b[38;5;124m\"\u001b[39m:\n\u001b[1;32m     35\u001b[0m     app\u001b[38;5;241m.\u001b[39mmount(\u001b[38;5;124m\"\u001b[39m\u001b[38;5;124m/labels\u001b[39m\u001b[38;5;124m\"\u001b[39m, StaticFiles(directory\u001b[38;5;241m=\u001b[39mzeno\u001b[38;5;241m.\u001b[39mlabel_path), name\u001b[38;5;241m=\u001b[39m\u001b[38;5;124m\"\u001b[39m\u001b[38;5;124mstatic\u001b[39m\u001b[38;5;124m\"\u001b[39m)\n",
      "File \u001b[0;32m~/dev-research/22-zeno/zeno/.venv/lib/python3.8/site-packages/starlette/staticfiles.py:55\u001b[0m, in \u001b[0;36mStaticFiles.__init__\u001b[0;34m(self, directory, packages, html, check_dir)\u001b[0m\n\u001b[1;32m     53\u001b[0m \u001b[38;5;28mself\u001b[39m\u001b[38;5;241m.\u001b[39mconfig_checked \u001b[38;5;241m=\u001b[39m \u001b[38;5;28;01mFalse\u001b[39;00m\n\u001b[1;32m     54\u001b[0m \u001b[38;5;28;01mif\u001b[39;00m check_dir \u001b[38;5;129;01mand\u001b[39;00m directory \u001b[38;5;129;01mis\u001b[39;00m \u001b[38;5;129;01mnot\u001b[39;00m \u001b[38;5;28;01mNone\u001b[39;00m \u001b[38;5;129;01mand\u001b[39;00m \u001b[38;5;129;01mnot\u001b[39;00m os\u001b[38;5;241m.\u001b[39mpath\u001b[38;5;241m.\u001b[39misdir(directory):\n\u001b[0;32m---> 55\u001b[0m     \u001b[38;5;28;01mraise\u001b[39;00m \u001b[38;5;167;01mRuntimeError\u001b[39;00m(\u001b[38;5;124mf\u001b[39m\u001b[38;5;124m\"\u001b[39m\u001b[38;5;124mDirectory \u001b[39m\u001b[38;5;124m'\u001b[39m\u001b[38;5;132;01m{\u001b[39;00mdirectory\u001b[38;5;132;01m}\u001b[39;00m\u001b[38;5;124m'\u001b[39m\u001b[38;5;124m does not exist\u001b[39m\u001b[38;5;124m\"\u001b[39m)\n",
      "\u001b[0;31mRuntimeError\u001b[0m: Directory '/Users/acabrera/dev-research/22-zeno/zeno/examples/speech-accent/audio-recordings' does not exist"
     ]
    }
   ],
   "source": [
    "from zeno import zeno\n",
    "import pandas as pd\n",
    "\n",
    "df = pd.read_csv(\"metadata.csv\")\n",
    "\n",
    "zeno({\n",
    "    \"metadata\": df,\n",
    "    \"view\": \"audio-transcription\",\n",
    "    \"data_path\": \"./audio-recordings/\",\n",
    "    \"data_column\": \"id\"\n",
    "})"
   ]
  },
  {
   "cell_type": "code",
   "execution_count": null,
   "metadata": {},
   "outputs": [],
   "source": [
    "from zeno import zeno\n",
    "import math\n",
    "import os\n",
    "import pandas as pd\n",
    "\n",
    "import torch\n",
    "import whisper\n",
    "from jiwer import wer\n",
    "from zeno import ZenoOptions, distill, metric, model\n",
    "import librosa\n",
    "import numpy as np\n",
    "from zeno import ZenoOptions, distill"
   ]
  },
  {
   "cell_type": "code",
   "execution_count": null,
   "metadata": {},
   "outputs": [],
   "source": [
    "df = pd.read_csv(\"metadata.csv\")"
   ]
  },
  {
   "cell_type": "code",
   "execution_count": null,
   "metadata": {},
   "outputs": [],
   "source": [
    "zeno({\n",
    "    \"metadata\": df,\n",
    "    \"view\": \"audio-transcription\",\n",
    "    \"data_path\": \"/Users/acabrera/dev/data/speech-accent-archive/recordings/recordings/\",\n",
    "    \"data_column\": \"id\"\n",
    "})"
   ]
  },
  {
   "cell_type": "code",
   "execution_count": null,
   "metadata": {},
   "outputs": [],
   "source": [
    "@model\n",
    "def load_model(model_path):\n",
    "    if \"sst\" in model_path:\n",
    "        device = torch.device(\"cpu\")\n",
    "        model, decoder, utils = torch.hub.load(\n",
    "            repo_or_dir=\"snakers4/silero-models\",\n",
    "            model=\"silero_stt\",\n",
    "            language=\"en\",\n",
    "            device=device,\n",
    "        )\n",
    "        (read_batch, _, _, prepare_model_input) = utils\n",
    "\n",
    "        def pred(df, ops: ZenoOptions):\n",
    "            files = [os.path.join(ops.data_path, f) for f in df[ops.data_column]]\n",
    "            input = prepare_model_input(read_batch(files), device=device)\n",
    "            return [decoder(x.cpu()) for x in model(input)]\n",
    "\n",
    "        return pred\n",
    "\n",
    "    elif \"whisper\" in model_path:\n",
    "        model = whisper.load_model(\"tiny\")\n",
    "\n",
    "        def pred(df, ops: ZenoOptions):\n",
    "            files = [os.path.join(ops.data_path, f) for f in df[ops.data_column]]\n",
    "            outs = []\n",
    "            for f in files:\n",
    "                outs.append(model.transcribe(f)[\"text\"])\n",
    "            return outs\n",
    "\n",
    "        return pred\n",
    "\n",
    "\n",
    "@distill\n",
    "def country(df, ops: ZenoOptions):\n",
    "    if df[\"0birthplace\"][0] == df[\"0birthplace\"][0]:\n",
    "        return df[\"0birthplace\"].str.split(\", \")[-1][-1]\n",
    "    return \"\"\n",
    "\n",
    "\n",
    "@distill\n",
    "def wer_m(df, ops: ZenoOptions):\n",
    "    return df.apply(lambda x: wer(x[ops.label_column], x[ops.output_column]), axis=1)\n",
    "\n",
    "\n",
    "@metric\n",
    "def avg_wer(df, ops: ZenoOptions):\n",
    "    avg = df[ops.distill_columns[\"wer_m\"]].mean()\n",
    "    if math.isnan(avg):\n",
    "        return 0\n",
    "    return avg\n",
    "\n",
    "@distill\n",
    "def amplitude(df, ops: ZenoOptions):\n",
    "    files = [os.path.join(ops.data_path, f) for f in df[ops.data_column]]\n",
    "    amps = []\n",
    "    for audio in files:\n",
    "        y, _ = librosa.load(audio)\n",
    "        amps.append(float(np.abs(y).mean()))\n",
    "    return amps\n",
    "\n",
    "\n",
    "@distill\n",
    "def length(df, ops: ZenoOptions):\n",
    "    files = [os.path.join(ops.data_path, f) for f in df[ops.data_column]]\n",
    "    amps = []\n",
    "    for audio in files:\n",
    "        y, _ = librosa.load(audio)\n",
    "        amps.append(len(y))\n",
    "    return amps\n",
    "\n"
   ]
  },
  {
   "cell_type": "code",
   "execution_count": null,
   "metadata": {
    "tags": []
   },
   "outputs": [],
   "source": [
    "zeno({\n",
    "    \"metadata\": df,\n",
    "    \"functions\": [load_model, country, wer_m, avg_wer, amplitude, length],\n",
    "    \"view\": \"audio-transcription\",\n",
    "    \"models\": [\"silero_sst\", \"whisper\"],\n",
    "    \"data_path\": \"/Users/acabrera/dev/data/speech-accent-archive/recordings/recordings/\",\n",
    "    \"data_column\": \"id\",\n",
    "    \"label_column\": \"label\",\n",
    "    \"samples\": 10,\n",
    "    \"port\": 8008,\n",
    "})\n",
    "# metadata = \"metadata.csv\"\n",
    "# # data_path = \"https://zenoml.s3.amazonaws.com/accents/\""
   ]
  }
 ],
 "metadata": {
  "kernelspec": {
   "display_name": "Python 3 (ipykernel)",
   "language": "python",
   "name": "python3"
  },
  "language_info": {
   "codemirror_mode": {
    "name": "ipython",
    "version": 3
   },
   "file_extension": ".py",
   "mimetype": "text/x-python",
   "name": "python",
   "nbconvert_exporter": "python",
   "pygments_lexer": "ipython3",
   "version": "3.8.12"
  },
  "vscode": {
   "interpreter": {
    "hash": "59d606a796fde3c997548ee5ab3f3009081de8aa2fb58c2406e58b3c7613e786"
   }
  }
 },
 "nbformat": 4,
 "nbformat_minor": 4
}
